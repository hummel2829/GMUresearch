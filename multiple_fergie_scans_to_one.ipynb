{
 "cells": [
  {
   "cell_type": "code",
   "execution_count": null,
   "metadata": {},
   "outputs": [],
   "source": [
    "import numpy as np\n",
    "from matplotlib import pyplot as plt\n",
    "import pandas as pd\n",
    "import glob\n",
    "\n",
    "folder_name = r'C:\\Users\\johnh\\Desktop\\Stuff\\Physics\\Research GMU\\spectroscopy\\drop cast\\MB\\11-22-2024\\trial 1\\raw data'\n",
    "# Get a list of all CSV files in the folder\n",
    "csv_files = glob.glob(folder_name+'/*.csv')\n",
    "\n",
    "first_csv_file = pd.read_csv(csv_files[0],skiprows=1).to_numpy()\n",
    "wavelengths = first_csv_file[:,-2]\n",
    "testing = 4\n",
    "\n",
    "\n"
   ]
  },
  {
   "cell_type": "code",
   "execution_count": 16,
   "metadata": {},
   "outputs": [
    {
     "name": "stdout",
     "output_type": "stream",
     "text": [
      "<bound method DataFrame.to_numpy of       1  1.1  0   0.1  N/A  N/A.1  422.87173758398342   1437\n",
      "0     1    1  0     1  NaN    NaN          423.406850   1483\n",
      "1     1    1  0     2  NaN    NaN          423.941999   1429\n",
      "2     1    1  0     3  NaN    NaN          424.477182   1433\n",
      "3     1    1  0     4  NaN    NaN          425.012401   1481\n",
      "4     1    1  0     5  NaN    NaN          425.547654   1468\n",
      "...  ..  ... ..   ...  ...    ...                 ...    ...\n",
      "1018  1    1  0  1019  NaN    NaN          979.034877  28699\n",
      "1019  1    1  0  1020  NaN    NaN          979.583831  28489\n",
      "1020  1    1  0  1021  NaN    NaN          980.132777  28699\n",
      "1021  1    1  0  1022  NaN    NaN          980.681714  28135\n",
      "1022  1    1  0  1023  NaN    NaN          981.230643  26224\n",
      "\n",
      "[1023 rows x 8 columns]>\n",
      "<bound method DataFrame.to_numpy of       1  1.1  0   0.1  N/A  N/A.1  422.87173758398342   1281\n",
      "0     1    1  0     1  NaN    NaN          423.406850   1285\n",
      "1     1    1  0     2  NaN    NaN          423.941999   1319\n",
      "2     1    1  0     3  NaN    NaN          424.477182   1300\n",
      "3     1    1  0     4  NaN    NaN          425.012401   1332\n",
      "4     1    1  0     5  NaN    NaN          425.547654   1376\n",
      "...  ..  ... ..   ...  ...    ...                 ...    ...\n",
      "1018  1    1  0  1019  NaN    NaN          979.034877  18514\n",
      "1019  1    1  0  1020  NaN    NaN          979.583831  18242\n",
      "1020  1    1  0  1021  NaN    NaN          980.132777  18092\n",
      "1021  1    1  0  1022  NaN    NaN          980.681714  18134\n",
      "1022  1    1  0  1023  NaN    NaN          981.230643  16751\n",
      "\n",
      "[1023 rows x 8 columns]>\n",
      "<bound method DataFrame.to_numpy of       1  1.1  0   0.1  N/A  N/A.1  422.87173758398342  -645\n",
      "0     1    1  0     1  NaN    NaN          423.406850  -671\n",
      "1     1    1  0     2  NaN    NaN          423.941999  -698\n",
      "2     1    1  0     3  NaN    NaN          424.477182  -678\n",
      "3     1    1  0     4  NaN    NaN          425.012401  -705\n",
      "4     1    1  0     5  NaN    NaN          425.547654  -734\n",
      "...  ..  ... ..   ...  ...    ...                 ...   ...\n",
      "1018  1    1  0  1019  NaN    NaN          979.034877 -9707\n",
      "1019  1    1  0  1020  NaN    NaN          979.583831 -9566\n",
      "1020  1    1  0  1021  NaN    NaN          980.132777 -9473\n",
      "1021  1    1  0  1022  NaN    NaN          980.681714 -9476\n",
      "1022  1    1  0  1023  NaN    NaN          981.230643 -8656\n",
      "\n",
      "[1023 rows x 8 columns]>\n",
      "<bound method DataFrame.to_numpy of       1  1.1  0   0.1  N/A  N/A.1  422.87173758398342   611\n",
      "0     1    1  0     1  NaN    NaN          423.406850   601\n",
      "1     1    1  0     2  NaN    NaN          423.941999   604\n",
      "2     1    1  0     3  NaN    NaN          424.477182   610\n",
      "3     1    1  0     4  NaN    NaN          425.012401   608\n",
      "4     1    1  0     5  NaN    NaN          425.547654   603\n",
      "...  ..  ... ..   ...  ...    ...                 ...   ...\n",
      "1018  1    1  0  1019  NaN    NaN          979.034877  8347\n",
      "1019  1    1  0  1020  NaN    NaN          979.583831  8176\n",
      "1020  1    1  0  1021  NaN    NaN          980.132777  8263\n",
      "1021  1    1  0  1022  NaN    NaN          980.681714  8314\n",
      "1022  1    1  0  1023  NaN    NaN          981.230643  7723\n",
      "\n",
      "[1023 rows x 8 columns]>\n"
     ]
    }
   ],
   "source": [
    "\n",
    "# Create an empty list to store the dataframes\n",
    "dfs = []\n",
    "\n",
    "# Loop through the CSV files\n",
    "for file in csv_files:\n",
    "    # Read the CSV file into a dataframe\n",
    "    df = pd.read_csv(file,skiprows=1).to_numpy\n",
    "    print(df)\n",
    "    # Append the dataframe to the list\n",
    "    #dfs.append(df)\n",
    "\n",
    "\n"
   ]
  },
  {
   "cell_type": "code",
   "execution_count": null,
   "metadata": {},
   "outputs": [],
   "source": []
  }
 ],
 "metadata": {
  "kernelspec": {
   "display_name": ".venv",
   "language": "python",
   "name": "python3"
  },
  "language_info": {
   "codemirror_mode": {
    "name": "ipython",
    "version": 3
   },
   "file_extension": ".py",
   "mimetype": "text/x-python",
   "name": "python",
   "nbconvert_exporter": "python",
   "pygments_lexer": "ipython3",
   "version": "3.11.5"
  }
 },
 "nbformat": 4,
 "nbformat_minor": 2
}
